{
 "cells": [
  {
   "metadata": {},
   "cell_type": "markdown",
   "source": "# Board",
   "id": "9cd96c87d8cc9a16"
  },
  {
   "metadata": {
    "ExecuteTime": {
     "end_time": "2025-10-28T16:36:31.250701Z",
     "start_time": "2025-10-28T16:36:31.246113Z"
    }
   },
   "cell_type": "code",
   "source": [
    "class Node:\n",
    "    def __init__(self, board, player):\n",
    "        self.board = board[:]\n",
    "        self.player = player\n",
    "        self.children = []\n",
    "        self.value = None\n",
    "\n",
    "    def __repr__(self):\n",
    "        b = self.board\n",
    "        board_str = (f\"\\n {b[0]} | {b[1]} | {b[2]}\"\n",
    "                     f\"\\n---+---+---\"\n",
    "                     f\"\\n {b[3]} | {b[4]} | {b[5]}\"\n",
    "                     f\"\\n---+---+---\"\n",
    "                     f\"\\n {b[6]} | {b[7]} | {b[8]}\")\n",
    "        return f\"Player: {self.player}, Value: {self.value}\\n{board_str}\\nChildren: {len(self.children)}\"\n",
    "\n",
    "def winner(board):\n",
    "    win_positions = [\n",
    "        (0,1,2), (3,4,5), (6,7,8),\n",
    "        (0,3,6), (1,4,7), (2,5,8),\n",
    "        (0,4,8), (2,4,6)\n",
    "    ]\n",
    "    for (a,b,c) in win_positions:\n",
    "        if board[a] != \" \" and board[a] == board[b] == board[c]:\n",
    "            return board[a]\n",
    "    return None\n",
    "\n",
    "def available_moves(board):\n",
    "    return [i for i in range(9) if board[i] == \" \"]\n",
    "\n",
    "def is_full(board):\n",
    "    return \" \" not in board\n"
   ],
   "id": "5477b8d292ea5654",
   "outputs": [],
   "execution_count": 118
  },
  {
   "metadata": {},
   "cell_type": "markdown",
   "source": "# MinMax-Algo",
   "id": "af3992fa5948eccc"
  },
  {
   "metadata": {
    "ExecuteTime": {
     "end_time": "2025-10-28T16:36:31.259248Z",
     "start_time": "2025-10-28T16:36:31.253961Z"
    }
   },
   "cell_type": "code",
   "source": [
    "def build_minimax_tree(node, checked_nodes=0):\n",
    "    # Terminal condition\n",
    "    win = winner(node.board)\n",
    "    if win == \"X\":\n",
    "        node.value = 1\n",
    "        return node, checked_nodes\n",
    "    elif win == \"O\":\n",
    "        node.value = -1\n",
    "        return node, checked_nodes\n",
    "    elif is_full(node.board):\n",
    "        node.value = 0\n",
    "        return node, checked_nodes\n",
    "\n",
    "    # Recursive expansion\n",
    "    moves = available_moves(node.board)\n",
    "    next_player = \"O\" if node.player == \"X\" else \"X\"\n",
    "\n",
    "    for move in moves:\n",
    "        new_board = node.board[:]\n",
    "        new_board[move] = node.player\n",
    "        child = Node(new_board, next_player)\n",
    "        temp, checked_nodes = build_minimax_tree(child, checked_nodes)\n",
    "        node.children.append(child)\n",
    "\n",
    "    # Evaluate based on Minimax rule\n",
    "    if node.player == \"X\":\n",
    "        node.value = max(child.value for child in node.children)\n",
    "    else:\n",
    "        node.value = min(child.value for child in node.children)\n",
    "    checked_nodes += len(node.children)\n",
    "    return node, checked_nodes\n"
   ],
   "id": "6f95c4275cbc558b",
   "outputs": [],
   "execution_count": 119
  },
  {
   "metadata": {
    "ExecuteTime": {
     "end_time": "2025-10-28T16:36:31.268161Z",
     "start_time": "2025-10-28T16:36:31.264559Z"
    }
   },
   "cell_type": "code",
   "source": [
    "initial_board = [\" \", \"O\", \"O\",\n",
    "                 \" \", \" \", \" \",\n",
    "                 \" \", \"O\", \"O\"]\n",
    "root = Node(initial_board, \"X\")\n",
    "tree, checked_nodes = build_minimax_tree(root)\n",
    "if tree.value == 1:\n",
    "    print(\"X wins: \", tree.value)\n",
    "elif tree.value == -1:\n",
    "    print(\"O wins: \", tree.value)\n",
    "else:\n",
    "    print(\"Draw: \", tree.value)\n",
    "\n",
    "print(\"Checked nodes\", checked_nodes)"
   ],
   "id": "2ab1716b102a84cc",
   "outputs": [
    {
     "name": "stdout",
     "output_type": "stream",
     "text": [
      "O wins:  -1\n",
      "Checked nodes 61\n"
     ]
    }
   ],
   "execution_count": 120
  },
  {
   "metadata": {},
   "cell_type": "markdown",
   "source": "# MinMax-Algo with pruning",
   "id": "58c40f18f9f3d8ab"
  },
  {
   "metadata": {
    "ExecuteTime": {
     "end_time": "2025-10-28T16:36:31.283254Z",
     "start_time": "2025-10-28T16:36:31.278438Z"
    }
   },
   "cell_type": "code",
   "source": [
    "def build_minimax_tree_pruning(node, alpha, beta, checked_nodes=0):\n",
    "    # Terminal condition\n",
    "    win = winner(node.board)\n",
    "    if win == \"X\":\n",
    "        node.value = 1\n",
    "        return node, checked_nodes\n",
    "    elif win == \"O\":\n",
    "        node.value = -1\n",
    "        return node, checked_nodes\n",
    "    elif is_full(node.board):\n",
    "        node.value = 0\n",
    "        return node, checked_nodes\n",
    "\n",
    "    moves = available_moves(node.board)\n",
    "    next_player = \"O\" if node.player == \"X\" else \"X\"\n",
    "\n",
    "    # Maximizing player (X)\n",
    "    if node.player == \"X\":\n",
    "        node.value = float('-inf')\n",
    "        for move in moves:\n",
    "            new_board = node.board[:]\n",
    "            new_board[move] = node.player\n",
    "            child = Node(new_board, next_player)\n",
    "\n",
    "            child, checked_nodes = build_minimax_tree_pruning(child, alpha, beta, checked_nodes)\n",
    "            node.children.append(child)\n",
    "\n",
    "            node.value = max(node.value, child.value)\n",
    "            alpha = max(alpha, node.value)\n",
    "\n",
    "            if beta <= alpha:\n",
    "                break\n",
    "\n",
    "            checked_nodes += 1\n",
    "\n",
    "    # Minimizing player (O)\n",
    "    else:\n",
    "        node.value = float('inf')\n",
    "        for move in moves:\n",
    "            new_board = node.board[:]\n",
    "            new_board[move] = node.player\n",
    "            child = Node(new_board, next_player)\n",
    "\n",
    "            child, checked_nodes = build_minimax_tree_pruning(child, alpha, beta, checked_nodes)\n",
    "            node.children.append(child)\n",
    "\n",
    "            node.value = min(node.value, child.value)\n",
    "            beta = min(beta, node.value)\n",
    "\n",
    "            if beta <= alpha:\n",
    "                break\n",
    "\n",
    "            checked_nodes += 1\n",
    "\n",
    "    return node, checked_nodes"
   ],
   "id": "d910b344352e1573",
   "outputs": [],
   "execution_count": 121
  },
  {
   "metadata": {
    "ExecuteTime": {
     "end_time": "2025-10-28T16:36:31.302400Z",
     "start_time": "2025-10-28T16:36:31.298342Z"
    }
   },
   "cell_type": "code",
   "source": [
    "initial_board = [\" \", \"O\", \"O\",\n",
    "                 \" \", \" \", \" \",\n",
    "                 \" \", \"O\", \"O\"]\n",
    "root = Node(initial_board, \"X\")\n",
    "tree, checked_nodes = build_minimax_tree_pruning(root, alpha=-2, beta=2)\n",
    "if tree.value == 1:\n",
    "    print(\"X wins: \", tree.value)\n",
    "elif tree.value == -1:\n",
    "    print(\"O wins: \", tree.value)\n",
    "else:\n",
    "    print(\"Draw: \", tree.value)\n",
    "\n",
    "print(\"Checked nodes\", checked_nodes)"
   ],
   "id": "bfd6f474a73364eb",
   "outputs": [
    {
     "name": "stdout",
     "output_type": "stream",
     "text": [
      "O wins:  -1\n",
      "Checked nodes 14\n"
     ]
    }
   ],
   "execution_count": 122
  }
 ],
 "metadata": {
  "kernelspec": {
   "display_name": "Python 3",
   "language": "python",
   "name": "python3"
  },
  "language_info": {
   "codemirror_mode": {
    "name": "ipython",
    "version": 2
   },
   "file_extension": ".py",
   "mimetype": "text/x-python",
   "name": "python",
   "nbconvert_exporter": "python",
   "pygments_lexer": "ipython2",
   "version": "2.7.6"
  }
 },
 "nbformat": 4,
 "nbformat_minor": 5
}
